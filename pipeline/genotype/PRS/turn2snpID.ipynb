{
 "cells": [
  {
   "cell_type": "code",
   "execution_count": 1,
   "id": "c00bcbe2",
   "metadata": {
    "ExecuteTime": {
     "end_time": "2023-03-16T10:13:11.039734Z",
     "start_time": "2023-03-16T10:13:10.412396Z"
    }
   },
   "outputs": [],
   "source": [
    "import pandas as pd"
   ]
  },
  {
   "cell_type": "code",
   "execution_count": 3,
   "id": "6e6a6b06",
   "metadata": {
    "ExecuteTime": {
     "end_time": "2023-03-17T01:04:00.577140Z",
     "start_time": "2023-03-17T01:03:58.654487Z"
    }
   },
   "outputs": [
    {
     "name": "stderr",
     "output_type": "stream",
     "text": [
      "/tmp/ipykernel_204784/526045459.py:1: DtypeWarning: Columns (8) have mixed types. Specify dtype option on import or set low_memory=False.\n",
      "  df = pd.read_table(\"PGS002308_hmPOS_GRCh38.txt\",comment=\"#\")\n"
     ]
    }
   ],
   "source": [
    "df = pd.read_table(\"PGS002308_hmPOS_GRCh38.txt\",comment=\"#\")"
   ]
  },
  {
   "cell_type": "code",
   "execution_count": 4,
   "id": "9daa1bdb",
   "metadata": {
    "ExecuteTime": {
     "end_time": "2023-03-17T01:04:04.249699Z",
     "start_time": "2023-03-17T01:04:04.217530Z"
    }
   },
   "outputs": [
    {
     "data": {
      "text/html": [
       "<div>\n",
       "<style scoped>\n",
       "    .dataframe tbody tr th:only-of-type {\n",
       "        vertical-align: middle;\n",
       "    }\n",
       "\n",
       "    .dataframe tbody tr th {\n",
       "        vertical-align: top;\n",
       "    }\n",
       "\n",
       "    .dataframe thead th {\n",
       "        text-align: right;\n",
       "    }\n",
       "</style>\n",
       "<table border=\"1\" class=\"dataframe\">\n",
       "  <thead>\n",
       "    <tr style=\"text-align: right;\">\n",
       "      <th></th>\n",
       "      <th>rsID</th>\n",
       "      <th>chr_name</th>\n",
       "      <th>chr_position</th>\n",
       "      <th>effect_allele</th>\n",
       "      <th>other_allele</th>\n",
       "      <th>effect_weight</th>\n",
       "      <th>hm_source</th>\n",
       "      <th>hm_rsID</th>\n",
       "      <th>hm_chr</th>\n",
       "      <th>hm_pos</th>\n",
       "      <th>hm_inferOtherAllele</th>\n",
       "    </tr>\n",
       "  </thead>\n",
       "  <tbody>\n",
       "    <tr>\n",
       "      <th>0</th>\n",
       "      <td>rs3131972</td>\n",
       "      <td>1</td>\n",
       "      <td>752721</td>\n",
       "      <td>A</td>\n",
       "      <td>G</td>\n",
       "      <td>-0.000114</td>\n",
       "      <td>ENSEMBL</td>\n",
       "      <td>rs3131972</td>\n",
       "      <td>1.0</td>\n",
       "      <td>817341.0</td>\n",
       "      <td>NaN</td>\n",
       "    </tr>\n",
       "    <tr>\n",
       "      <th>1</th>\n",
       "      <td>rs3131969</td>\n",
       "      <td>1</td>\n",
       "      <td>754182</td>\n",
       "      <td>A</td>\n",
       "      <td>G</td>\n",
       "      <td>-0.000142</td>\n",
       "      <td>ENSEMBL</td>\n",
       "      <td>rs3131969</td>\n",
       "      <td>1.0</td>\n",
       "      <td>818802.0</td>\n",
       "      <td>NaN</td>\n",
       "    </tr>\n",
       "    <tr>\n",
       "      <th>2</th>\n",
       "      <td>rs1048488</td>\n",
       "      <td>1</td>\n",
       "      <td>760912</td>\n",
       "      <td>C</td>\n",
       "      <td>T</td>\n",
       "      <td>0.000005</td>\n",
       "      <td>ENSEMBL</td>\n",
       "      <td>rs1048488</td>\n",
       "      <td>1.0</td>\n",
       "      <td>825532.0</td>\n",
       "      <td>NaN</td>\n",
       "    </tr>\n",
       "    <tr>\n",
       "      <th>3</th>\n",
       "      <td>rs12562034</td>\n",
       "      <td>1</td>\n",
       "      <td>768448</td>\n",
       "      <td>A</td>\n",
       "      <td>G</td>\n",
       "      <td>0.000011</td>\n",
       "      <td>ENSEMBL</td>\n",
       "      <td>rs12562034</td>\n",
       "      <td>1.0</td>\n",
       "      <td>833068.0</td>\n",
       "      <td>NaN</td>\n",
       "    </tr>\n",
       "    <tr>\n",
       "      <th>4</th>\n",
       "      <td>rs4040617</td>\n",
       "      <td>1</td>\n",
       "      <td>779322</td>\n",
       "      <td>G</td>\n",
       "      <td>A</td>\n",
       "      <td>-0.000060</td>\n",
       "      <td>ENSEMBL</td>\n",
       "      <td>rs4040617</td>\n",
       "      <td>1.0</td>\n",
       "      <td>843942.0</td>\n",
       "      <td>NaN</td>\n",
       "    </tr>\n",
       "    <tr>\n",
       "      <th>...</th>\n",
       "      <td>...</td>\n",
       "      <td>...</td>\n",
       "      <td>...</td>\n",
       "      <td>...</td>\n",
       "      <td>...</td>\n",
       "      <td>...</td>\n",
       "      <td>...</td>\n",
       "      <td>...</td>\n",
       "      <td>...</td>\n",
       "      <td>...</td>\n",
       "      <td>...</td>\n",
       "    </tr>\n",
       "    <tr>\n",
       "      <th>1259749</th>\n",
       "      <td>rs2285395</td>\n",
       "      <td>22</td>\n",
       "      <td>51178090</td>\n",
       "      <td>A</td>\n",
       "      <td>G</td>\n",
       "      <td>0.000113</td>\n",
       "      <td>ENSEMBL</td>\n",
       "      <td>rs2285395</td>\n",
       "      <td>22</td>\n",
       "      <td>50739662.0</td>\n",
       "      <td>NaN</td>\n",
       "    </tr>\n",
       "    <tr>\n",
       "      <th>1259750</th>\n",
       "      <td>rs13056621</td>\n",
       "      <td>22</td>\n",
       "      <td>51181759</td>\n",
       "      <td>A</td>\n",
       "      <td>G</td>\n",
       "      <td>-0.000003</td>\n",
       "      <td>ENSEMBL</td>\n",
       "      <td>rs13056621</td>\n",
       "      <td>22</td>\n",
       "      <td>50743331.0</td>\n",
       "      <td>NaN</td>\n",
       "    </tr>\n",
       "    <tr>\n",
       "      <th>1259751</th>\n",
       "      <td>rs3888396</td>\n",
       "      <td>22</td>\n",
       "      <td>51211392</td>\n",
       "      <td>C</td>\n",
       "      <td>T</td>\n",
       "      <td>0.000128</td>\n",
       "      <td>ENSEMBL</td>\n",
       "      <td>rs3888396</td>\n",
       "      <td>22</td>\n",
       "      <td>50772964.0</td>\n",
       "      <td>NaN</td>\n",
       "    </tr>\n",
       "    <tr>\n",
       "      <th>1259752</th>\n",
       "      <td>rs2238837</td>\n",
       "      <td>22</td>\n",
       "      <td>51212875</td>\n",
       "      <td>C</td>\n",
       "      <td>A</td>\n",
       "      <td>0.000018</td>\n",
       "      <td>ENSEMBL</td>\n",
       "      <td>rs2238837</td>\n",
       "      <td>22</td>\n",
       "      <td>50774447.0</td>\n",
       "      <td>NaN</td>\n",
       "    </tr>\n",
       "    <tr>\n",
       "      <th>1259753</th>\n",
       "      <td>rs28729663</td>\n",
       "      <td>22</td>\n",
       "      <td>51219006</td>\n",
       "      <td>A</td>\n",
       "      <td>G</td>\n",
       "      <td>0.000027</td>\n",
       "      <td>ENSEMBL</td>\n",
       "      <td>rs28729663</td>\n",
       "      <td>22</td>\n",
       "      <td>50780578.0</td>\n",
       "      <td>NaN</td>\n",
       "    </tr>\n",
       "  </tbody>\n",
       "</table>\n",
       "<p>1259754 rows × 11 columns</p>\n",
       "</div>"
      ],
      "text/plain": [
       "               rsID  chr_name  chr_position effect_allele other_allele  \\\n",
       "0         rs3131972         1        752721             A            G   \n",
       "1         rs3131969         1        754182             A            G   \n",
       "2         rs1048488         1        760912             C            T   \n",
       "3        rs12562034         1        768448             A            G   \n",
       "4         rs4040617         1        779322             G            A   \n",
       "...             ...       ...           ...           ...          ...   \n",
       "1259749   rs2285395        22      51178090             A            G   \n",
       "1259750  rs13056621        22      51181759             A            G   \n",
       "1259751   rs3888396        22      51211392             C            T   \n",
       "1259752   rs2238837        22      51212875             C            A   \n",
       "1259753  rs28729663        22      51219006             A            G   \n",
       "\n",
       "         effect_weight hm_source     hm_rsID hm_chr      hm_pos  \\\n",
       "0            -0.000114   ENSEMBL   rs3131972    1.0    817341.0   \n",
       "1            -0.000142   ENSEMBL   rs3131969    1.0    818802.0   \n",
       "2             0.000005   ENSEMBL   rs1048488    1.0    825532.0   \n",
       "3             0.000011   ENSEMBL  rs12562034    1.0    833068.0   \n",
       "4            -0.000060   ENSEMBL   rs4040617    1.0    843942.0   \n",
       "...                ...       ...         ...    ...         ...   \n",
       "1259749       0.000113   ENSEMBL   rs2285395     22  50739662.0   \n",
       "1259750      -0.000003   ENSEMBL  rs13056621     22  50743331.0   \n",
       "1259751       0.000128   ENSEMBL   rs3888396     22  50772964.0   \n",
       "1259752       0.000018   ENSEMBL   rs2238837     22  50774447.0   \n",
       "1259753       0.000027   ENSEMBL  rs28729663     22  50780578.0   \n",
       "\n",
       "         hm_inferOtherAllele  \n",
       "0                        NaN  \n",
       "1                        NaN  \n",
       "2                        NaN  \n",
       "3                        NaN  \n",
       "4                        NaN  \n",
       "...                      ...  \n",
       "1259749                  NaN  \n",
       "1259750                  NaN  \n",
       "1259751                  NaN  \n",
       "1259752                  NaN  \n",
       "1259753                  NaN  \n",
       "\n",
       "[1259754 rows x 11 columns]"
      ]
     },
     "execution_count": 4,
     "metadata": {},
     "output_type": "execute_result"
    }
   ],
   "source": [
    "df"
   ]
  },
  {
   "cell_type": "code",
   "execution_count": 6,
   "id": "33db0c04",
   "metadata": {
    "ExecuteTime": {
     "end_time": "2023-03-17T01:06:11.809841Z",
     "start_time": "2023-03-17T01:06:11.747891Z"
    }
   },
   "outputs": [],
   "source": [
    "Height  = df[[\"chr_name\",\"chr_position\",\"effect_allele\",\"other_allele\",\"effect_weight\"]]"
   ]
  },
  {
   "cell_type": "code",
   "execution_count": 22,
   "id": "b64ae927",
   "metadata": {
    "ExecuteTime": {
     "end_time": "2023-03-17T01:16:58.344295Z",
     "start_time": "2023-03-17T01:16:58.334689Z"
    }
   },
   "outputs": [
    {
     "data": {
      "text/plain": [
       "[0          A\n",
       " 1          A\n",
       " 2          C\n",
       " 3          A\n",
       " 4          G\n",
       "           ..\n",
       " 1259749    A\n",
       " 1259750    A\n",
       " 1259751    C\n",
       " 1259752    C\n",
       " 1259753    A\n",
       " Name: effect_allele, Length: 1259754, dtype: object,\n",
       " 0          G\n",
       " 1          G\n",
       " 2          T\n",
       " 3          G\n",
       " 4          A\n",
       "           ..\n",
       " 1259749    G\n",
       " 1259750    G\n",
       " 1259751    T\n",
       " 1259752    A\n",
       " 1259753    G\n",
       " Name: other_allele, Length: 1259754, dtype: object]"
      ]
     },
     "execution_count": 22,
     "metadata": {},
     "output_type": "execute_result"
    }
   ],
   "source": [
    "[Height[\"effect_allele\"],Height[\"other_allele\"]]"
   ]
  },
  {
   "cell_type": "code",
   "execution_count": 33,
   "id": "4f200b1f",
   "metadata": {
    "ExecuteTime": {
     "end_time": "2023-03-17T01:21:51.761911Z",
     "start_time": "2023-03-17T01:21:51.756465Z"
    }
   },
   "outputs": [],
   "source": [
    "def sorts(x):\n",
    "    allele = [x[\"effect_allele\"],x[\"other_allele\"]]\n",
    "    allele.sort()\n",
    "    snpid=\"chr\"+str(x[\"chr_name\"]) +\":\"+ str(x[\"chr_position\"])+\":\"+allele[0]+\":\"+allele[1]\n",
    "    return snpid"
   ]
  },
  {
   "cell_type": "code",
   "execution_count": 35,
   "id": "31c88c7b",
   "metadata": {
    "ExecuteTime": {
     "end_time": "2023-03-17T01:23:47.168570Z",
     "start_time": "2023-03-17T01:23:30.397831Z"
    }
   },
   "outputs": [
    {
     "name": "stderr",
     "output_type": "stream",
     "text": [
      "/tmp/ipykernel_204784/837691811.py:1: SettingWithCopyWarning: \n",
      "A value is trying to be set on a copy of a slice from a DataFrame.\n",
      "Try using .loc[row_indexer,col_indexer] = value instead\n",
      "\n",
      "See the caveats in the documentation: https://pandas.pydata.org/pandas-docs/stable/user_guide/indexing.html#returning-a-view-versus-a-copy\n",
      "  Height[\"SNPid\"] =Height.apply(sorts,axis=1)\n"
     ]
    }
   ],
   "source": [
    "Height[\"SNPid\"] =Height.apply(sorts,axis=1)"
   ]
  },
  {
   "cell_type": "code",
   "execution_count": 37,
   "id": "5ac12858",
   "metadata": {
    "ExecuteTime": {
     "end_time": "2023-03-17T01:25:40.485559Z",
     "start_time": "2023-03-17T01:25:36.896035Z"
    }
   },
   "outputs": [],
   "source": [
    "Height.to_csv(\"./SNPid_beta.txt\",index=False,sep=\"\\t\")"
   ]
  },
  {
   "cell_type": "code",
   "execution_count": 29,
   "id": "013ed73f",
   "metadata": {
    "ExecuteTime": {
     "end_time": "2023-03-17T01:19:44.152262Z",
     "start_time": "2023-03-17T01:19:44.148096Z"
    }
   },
   "outputs": [],
   "source": []
  },
  {
   "cell_type": "code",
   "execution_count": 30,
   "id": "88c99c40",
   "metadata": {
    "ExecuteTime": {
     "end_time": "2023-03-17T01:19:49.092264Z",
     "start_time": "2023-03-17T01:19:49.085261Z"
    }
   },
   "outputs": [
    {
     "data": {
      "text/plain": [
       "['C', 'T']"
      ]
     },
     "execution_count": 30,
     "metadata": {},
     "output_type": "execute_result"
    }
   ],
   "source": []
  },
  {
   "cell_type": "code",
   "execution_count": null,
   "id": "634c7cf7",
   "metadata": {},
   "outputs": [],
   "source": []
  }
 ],
 "metadata": {
  "kernelspec": {
   "display_name": "bio_base",
   "language": "python",
   "name": "bio_base"
  },
  "language_info": {
   "codemirror_mode": {
    "name": "ipython",
    "version": 3
   },
   "file_extension": ".py",
   "mimetype": "text/x-python",
   "name": "python",
   "nbconvert_exporter": "python",
   "pygments_lexer": "ipython3",
   "version": "3.10.9"
  },
  "toc": {
   "base_numbering": 1,
   "nav_menu": {},
   "number_sections": true,
   "sideBar": true,
   "skip_h1_title": false,
   "title_cell": "Table of Contents",
   "title_sidebar": "Contents",
   "toc_cell": false,
   "toc_position": {},
   "toc_section_display": true,
   "toc_window_display": false
  },
  "varInspector": {
   "cols": {
    "lenName": 16,
    "lenType": 16,
    "lenVar": 40
   },
   "kernels_config": {
    "python": {
     "delete_cmd_postfix": "",
     "delete_cmd_prefix": "del ",
     "library": "var_list.py",
     "varRefreshCmd": "print(var_dic_list())"
    },
    "r": {
     "delete_cmd_postfix": ") ",
     "delete_cmd_prefix": "rm(",
     "library": "var_list.r",
     "varRefreshCmd": "cat(var_dic_list()) "
    }
   },
   "types_to_exclude": [
    "module",
    "function",
    "builtin_function_or_method",
    "instance",
    "_Feature"
   ],
   "window_display": false
  }
 },
 "nbformat": 4,
 "nbformat_minor": 5
}
