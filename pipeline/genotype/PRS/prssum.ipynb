{
 "cells": [
  {
   "cell_type": "code",
   "execution_count": 35,
   "id": "d9f97cdc",
   "metadata": {
    "ExecuteTime": {
     "end_time": "2023-03-21T02:28:25.757898Z",
     "start_time": "2023-03-21T02:28:25.749461Z"
    }
   },
   "outputs": [],
   "source": [
    "import pandas as pd\n",
    "import glob\n",
    "import seaborn as sns\n",
    "import matplotlib.pyplot as plt\n",
    "%matplotlib inline"
   ]
  },
  {
   "cell_type": "code",
   "execution_count": 2,
   "id": "0776540b",
   "metadata": {
    "ExecuteTime": {
     "end_time": "2023-03-21T02:15:01.951132Z",
     "start_time": "2023-03-21T02:15:01.940524Z"
    }
   },
   "outputs": [],
   "source": [
    "df = pd.read_table(\"./1kg_HC_sample_china.chr1.sscore\")"
   ]
  },
  {
   "cell_type": "code",
   "execution_count": 3,
   "id": "4738c72a",
   "metadata": {
    "ExecuteTime": {
     "end_time": "2023-03-21T02:15:02.022674Z",
     "start_time": "2023-03-21T02:15:01.966103Z"
    }
   },
   "outputs": [],
   "source": [
    "sum_df=pd.DataFrame({\n",
    "    \"#IID\":df[\"#IID\"],\n",
    "    \"effect_weight_SUM\":0                \n",
    "                    })\n",
    "for i in glob.glob(\"./1kg_HC_sample_china.chr*.sscore\"):\n",
    "    df = pd.read_table(i)\n",
    "    sum_df[\"effect_weight_SUM\"]=df[\"effect_weight_SUM\"]+sum_df[\"effect_weight_SUM\"]\n",
    "    "
   ]
  },
  {
   "cell_type": "code",
   "execution_count": null,
   "id": "bfab6b6a",
   "metadata": {
    "ExecuteTime": {
     "end_time": "2023-03-21T02:15:02.596254Z",
     "start_time": "2023-03-21T02:15:02.596235Z"
    }
   },
   "outputs": [],
   "source": [
    "sum_df.to_csv(\"./sumPrsscors\")"
   ]
  },
  {
   "cell_type": "code",
   "execution_count": null,
   "id": "4379f812",
   "metadata": {
    "ExecuteTime": {
     "end_time": "2023-03-21T02:15:02.600569Z",
     "start_time": "2023-03-21T02:15:02.600540Z"
    }
   },
   "outputs": [],
   "source": [
    "a=pd.DataFrame({\n",
    "    \"#IID\":df[\"#IID\"],\n",
    "    \"effect_weight_SUM\":0                \n",
    "                    })"
   ]
  },
  {
   "cell_type": "code",
   "execution_count": 4,
   "id": "1426dd45",
   "metadata": {
    "ExecuteTime": {
     "end_time": "2023-03-21T02:15:03.022222Z",
     "start_time": "2023-03-21T02:15:02.993590Z"
    }
   },
   "outputs": [
    {
     "data": {
      "text/html": [
       "<div>\n",
       "<style scoped>\n",
       "    .dataframe tbody tr th:only-of-type {\n",
       "        vertical-align: middle;\n",
       "    }\n",
       "\n",
       "    .dataframe tbody tr th {\n",
       "        vertical-align: top;\n",
       "    }\n",
       "\n",
       "    .dataframe thead th {\n",
       "        text-align: right;\n",
       "    }\n",
       "</style>\n",
       "<table border=\"1\" class=\"dataframe\">\n",
       "  <thead>\n",
       "    <tr style=\"text-align: right;\">\n",
       "      <th></th>\n",
       "      <th>#IID</th>\n",
       "      <th>SID</th>\n",
       "      <th>ALLELE_CT</th>\n",
       "      <th>NAMED_ALLELE_DOSAGE_SUM</th>\n",
       "      <th>effect_weight_SUM</th>\n",
       "    </tr>\n",
       "  </thead>\n",
       "  <tbody>\n",
       "    <tr>\n",
       "      <th>0</th>\n",
       "      <td>0_206863650127_R06C020_206863650127_R06C02</td>\n",
       "      <td>0</td>\n",
       "      <td>5168</td>\n",
       "      <td>2544</td>\n",
       "      <td>0.016164</td>\n",
       "    </tr>\n",
       "    <tr>\n",
       "      <th>1</th>\n",
       "      <td>0_206863650127_R07C020_206863650127_R07C02</td>\n",
       "      <td>0</td>\n",
       "      <td>5168</td>\n",
       "      <td>2552</td>\n",
       "      <td>0.016268</td>\n",
       "    </tr>\n",
       "    <tr>\n",
       "      <th>2</th>\n",
       "      <td>0_206863650127_R08C020_206863650127_R08C02</td>\n",
       "      <td>0</td>\n",
       "      <td>5168</td>\n",
       "      <td>2546</td>\n",
       "      <td>0.016735</td>\n",
       "    </tr>\n",
       "    <tr>\n",
       "      <th>3</th>\n",
       "      <td>0_HG004030_HG00403</td>\n",
       "      <td>0</td>\n",
       "      <td>5168</td>\n",
       "      <td>2558</td>\n",
       "      <td>0.016230</td>\n",
       "    </tr>\n",
       "    <tr>\n",
       "      <th>4</th>\n",
       "      <td>0_HG004040_HG00404</td>\n",
       "      <td>0</td>\n",
       "      <td>5168</td>\n",
       "      <td>2552</td>\n",
       "      <td>0.016486</td>\n",
       "    </tr>\n",
       "    <tr>\n",
       "      <th>...</th>\n",
       "      <td>...</td>\n",
       "      <td>...</td>\n",
       "      <td>...</td>\n",
       "      <td>...</td>\n",
       "      <td>...</td>\n",
       "    </tr>\n",
       "    <tr>\n",
       "      <th>264</th>\n",
       "      <td>0_NA187450_NA18745</td>\n",
       "      <td>0</td>\n",
       "      <td>5168</td>\n",
       "      <td>2542</td>\n",
       "      <td>0.015570</td>\n",
       "    </tr>\n",
       "    <tr>\n",
       "      <th>265</th>\n",
       "      <td>0_NA187470_NA18747</td>\n",
       "      <td>0</td>\n",
       "      <td>5168</td>\n",
       "      <td>2548</td>\n",
       "      <td>0.016233</td>\n",
       "    </tr>\n",
       "    <tr>\n",
       "      <th>266</th>\n",
       "      <td>0_NA187480_NA18748</td>\n",
       "      <td>0</td>\n",
       "      <td>5168</td>\n",
       "      <td>2554</td>\n",
       "      <td>0.016479</td>\n",
       "    </tr>\n",
       "    <tr>\n",
       "      <th>267</th>\n",
       "      <td>0_NA187490_NA18749</td>\n",
       "      <td>0</td>\n",
       "      <td>5168</td>\n",
       "      <td>2548</td>\n",
       "      <td>0.015879</td>\n",
       "    </tr>\n",
       "    <tr>\n",
       "      <th>268</th>\n",
       "      <td>0_NA187570_NA18757</td>\n",
       "      <td>0</td>\n",
       "      <td>5168</td>\n",
       "      <td>2540</td>\n",
       "      <td>0.016193</td>\n",
       "    </tr>\n",
       "  </tbody>\n",
       "</table>\n",
       "<p>269 rows × 5 columns</p>\n",
       "</div>"
      ],
      "text/plain": [
       "                                           #IID  SID  ALLELE_CT  \\\n",
       "0    0_206863650127_R06C020_206863650127_R06C02    0       5168   \n",
       "1    0_206863650127_R07C020_206863650127_R07C02    0       5168   \n",
       "2    0_206863650127_R08C020_206863650127_R08C02    0       5168   \n",
       "3                            0_HG004030_HG00403    0       5168   \n",
       "4                            0_HG004040_HG00404    0       5168   \n",
       "..                                          ...  ...        ...   \n",
       "264                          0_NA187450_NA18745    0       5168   \n",
       "265                          0_NA187470_NA18747    0       5168   \n",
       "266                          0_NA187480_NA18748    0       5168   \n",
       "267                          0_NA187490_NA18749    0       5168   \n",
       "268                          0_NA187570_NA18757    0       5168   \n",
       "\n",
       "     NAMED_ALLELE_DOSAGE_SUM  effect_weight_SUM  \n",
       "0                       2544           0.016164  \n",
       "1                       2552           0.016268  \n",
       "2                       2546           0.016735  \n",
       "3                       2558           0.016230  \n",
       "4                       2552           0.016486  \n",
       "..                       ...                ...  \n",
       "264                     2542           0.015570  \n",
       "265                     2548           0.016233  \n",
       "266                     2554           0.016479  \n",
       "267                     2548           0.015879  \n",
       "268                     2540           0.016193  \n",
       "\n",
       "[269 rows x 5 columns]"
      ]
     },
     "execution_count": 4,
     "metadata": {},
     "output_type": "execute_result"
    }
   ],
   "source": [
    "df+df"
   ]
  },
  {
   "cell_type": "code",
   "execution_count": 63,
   "id": "a3c78c56",
   "metadata": {
    "ExecuteTime": {
     "end_time": "2023-03-21T02:39:10.838125Z",
     "start_time": "2023-03-21T02:39:10.819400Z"
    }
   },
   "outputs": [
    {
     "data": {
      "text/html": [
       "<div>\n",
       "<style scoped>\n",
       "    .dataframe tbody tr th:only-of-type {\n",
       "        vertical-align: middle;\n",
       "    }\n",
       "\n",
       "    .dataframe tbody tr th {\n",
       "        vertical-align: top;\n",
       "    }\n",
       "\n",
       "    .dataframe thead th {\n",
       "        text-align: right;\n",
       "    }\n",
       "</style>\n",
       "<table border=\"1\" class=\"dataframe\">\n",
       "  <thead>\n",
       "    <tr style=\"text-align: right;\">\n",
       "      <th></th>\n",
       "      <th>#IID</th>\n",
       "      <th>effect_weight_SUM</th>\n",
       "    </tr>\n",
       "  </thead>\n",
       "  <tbody>\n",
       "    <tr>\n",
       "      <th>1</th>\n",
       "      <td>0_206863650127_R07C02</td>\n",
       "      <td>0.211188</td>\n",
       "    </tr>\n",
       "    <tr>\n",
       "      <th>263</th>\n",
       "      <td>0_NA18740</td>\n",
       "      <td>0.201499</td>\n",
       "    </tr>\n",
       "    <tr>\n",
       "      <th>213</th>\n",
       "      <td>0_NA18593</td>\n",
       "      <td>0.199223</td>\n",
       "    </tr>\n",
       "    <tr>\n",
       "      <th>218</th>\n",
       "      <td>0_NA18602</td>\n",
       "      <td>0.198653</td>\n",
       "    </tr>\n",
       "    <tr>\n",
       "      <th>230</th>\n",
       "      <td>0_NA18616</td>\n",
       "      <td>0.195398</td>\n",
       "    </tr>\n",
       "    <tr>\n",
       "      <th>...</th>\n",
       "      <td>...</td>\n",
       "      <td>...</td>\n",
       "    </tr>\n",
       "    <tr>\n",
       "      <th>237</th>\n",
       "      <td>0_NA18623</td>\n",
       "      <td>0.127831</td>\n",
       "    </tr>\n",
       "    <tr>\n",
       "      <th>93</th>\n",
       "      <td>0_HG00593</td>\n",
       "      <td>0.123935</td>\n",
       "    </tr>\n",
       "    <tr>\n",
       "      <th>75</th>\n",
       "      <td>0_HG00560</td>\n",
       "      <td>0.121397</td>\n",
       "    </tr>\n",
       "    <tr>\n",
       "      <th>203</th>\n",
       "      <td>0_NA18570</td>\n",
       "      <td>0.116895</td>\n",
       "    </tr>\n",
       "    <tr>\n",
       "      <th>94</th>\n",
       "      <td>0_HG00594</td>\n",
       "      <td>0.114266</td>\n",
       "    </tr>\n",
       "  </tbody>\n",
       "</table>\n",
       "<p>269 rows × 2 columns</p>\n",
       "</div>"
      ],
      "text/plain": [
       "                      #IID  effect_weight_SUM\n",
       "1    0_206863650127_R07C02           0.211188\n",
       "263              0_NA18740           0.201499\n",
       "213              0_NA18593           0.199223\n",
       "218              0_NA18602           0.198653\n",
       "230              0_NA18616           0.195398\n",
       "..                     ...                ...\n",
       "237              0_NA18623           0.127831\n",
       "93               0_HG00593           0.123935\n",
       "75               0_HG00560           0.121397\n",
       "203              0_NA18570           0.116895\n",
       "94               0_HG00594           0.114266\n",
       "\n",
       "[269 rows x 2 columns]"
      ]
     },
     "execution_count": 63,
     "metadata": {},
     "output_type": "execute_result"
    }
   ],
   "source": [
    "sum_df.sort_values(\"effect_weight_SUM\",ascending=False)"
   ]
  },
  {
   "cell_type": "code",
   "execution_count": 76,
   "id": "d82452ec",
   "metadata": {
    "ExecuteTime": {
     "end_time": "2023-03-21T02:43:52.192349Z",
     "start_time": "2023-03-21T02:43:51.684654Z"
    }
   },
   "outputs": [
    {
     "data": {
      "text/plain": [
       "Text(0.14792926, 0.2, 'hxt_F')"
      ]
     },
     "execution_count": 76,
     "metadata": {},
     "output_type": "execute_result"
    },
    {
     "data": {
      "image/png": "[encoded data removed]",
      "text/plain": [
       "<Figure size 640x480 with 1 Axes>"
      ]
     },
     "metadata": {},
     "output_type": "display_data"
    }
   ],
   "source": [
    "sum_df.plot.kde()\n",
    "plt.axvline(sum_df.loc[0,\"effect_weight_SUM\"], 0,0.7,color=\"r\")\n",
    "plt.axvline(sum_df.loc[1,\"effect_weight_SUM\"], 0,0.7,color=\"r\")\n",
    "plt.axvline(sum_df.loc[2,\"effect_weight_SUM\"], 0,0.7,color=\"r\")\n",
    "plt.text(sum_df.loc[0,\"effect_weight_SUM\"],0.20,'hxt',rotation=0)\n",
    "plt.text(sum_df.loc[1,\"effect_weight_SUM\"],0.20,'hxt_M',rotation=0)\n",
    "plt.text(sum_df.loc[2,\"effect_weight_SUM\"],0.20,'hxt_F',rotation=0)"
   ]
  },
  {
   "cell_type": "code",
   "execution_count": 53,
   "id": "652212ff",
   "metadata": {
    "ExecuteTime": {
     "end_time": "2023-03-21T02:33:39.755864Z",
     "start_time": "2023-03-21T02:33:39.745105Z"
    }
   },
   "outputs": [
    {
     "data": {
      "text/plain": [
       "'0_206863650127_R06C02'"
      ]
     },
     "execution_count": 53,
     "metadata": {},
     "output_type": "execute_result"
    }
   ],
   "source": [
    "sum_df.loc[0,\"#IID\"]"
   ]
  },
  {
   "cell_type": "code",
   "execution_count": 38,
   "id": "2dffff25",
   "metadata": {
    "ExecuteTime": {
     "end_time": "2023-03-21T02:28:45.876430Z",
     "start_time": "2023-03-21T02:28:45.574251Z"
    }
   },
   "outputs": [
    {
     "data": {
      "image/png": "[encoded data removed]",
      "text/plain": [
       "<Figure size 640x480 with 1 Axes>"
      ]
     },
     "metadata": {},
     "output_type": "display_data"
    }
   ],
   "source": [
    "plt.plot([2.8, 2.8], [0, max(sum_df[\"effect_weight_SUM\"])])\n",
    "plt.show()"
   ]
  },
  {
   "cell_type": "code",
   "execution_count": null,
   "id": "0839e4c0",
   "metadata": {},
   "outputs": [],
   "source": []
  }
 ],
 "metadata": {
  "kernelspec": {
   "display_name": "bio_base",
   "language": "python",
   "name": "bio_base"
  },
  "language_info": {
   "codemirror_mode": {
    "name": "ipython",
    "version": 3
   },
   "file_extension": ".py",
   "mimetype": "text/x-python",
   "name": "python",
   "nbconvert_exporter": "python",
   "pygments_lexer": "ipython3",
   "version": "3.10.9"
  },
  "toc": {
   "base_numbering": 1,
   "nav_menu": {},
   "number_sections": true,
   "sideBar": true,
   "skip_h1_title": false,
   "title_cell": "Table of Contents",
   "title_sidebar": "Contents",
   "toc_cell": false,
   "toc_position": {},
   "toc_section_display": true,
   "toc_window_display": false
  },
  "varInspector": {
   "cols": {
    "lenName": 16,
    "lenType": 16,
    "lenVar": 40
   },
   "kernels_config": {
    "python": {
     "delete_cmd_postfix": "",
     "delete_cmd_prefix": "del ",
     "library": "var_list.py",
     "varRefreshCmd": "print(var_dic_list())"
    },
    "r": {
     "delete_cmd_postfix": ") ",
     "delete_cmd_prefix": "rm(",
     "library": "var_list.r",
     "varRefreshCmd": "cat(var_dic_list()) "
    }
   },
   "types_to_exclude": [
    "module",
    "function",
    "builtin_function_or_method",
    "instance",
    "_Feature"
   ],
   "window_display": false
  }
 },
 "nbformat": 4,
 "nbformat_minor": 5
}
